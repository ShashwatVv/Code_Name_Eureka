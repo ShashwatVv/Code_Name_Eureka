{
 "cells": [
  {
   "cell_type": "code",
   "execution_count": 1,
   "id": "3d142a3a",
   "metadata": {},
   "outputs": [],
   "source": [
    "import pandas as pd"
   ]
  },
  {
   "cell_type": "code",
   "execution_count": 20,
   "id": "0c8c1c07",
   "metadata": {},
   "outputs": [],
   "source": [
    "from sklearn.model_selection import train_test_split"
   ]
  },
  {
   "cell_type": "code",
   "execution_count": 23,
   "id": "f9f0c518",
   "metadata": {},
   "outputs": [],
   "source": [
    "from sklearn.feature_extraction.text import TfidfVectorizer"
   ]
  },
  {
   "cell_type": "code",
   "execution_count": 59,
   "id": "6f601a71",
   "metadata": {},
   "outputs": [],
   "source": [
    "from sklearn.decomposition import TruncatedSVD"
   ]
  },
  {
   "cell_type": "markdown",
   "id": "0fcd2592",
   "metadata": {},
   "source": [
    "#### Load the dataset"
   ]
  },
  {
   "cell_type": "code",
   "execution_count": 40,
   "id": "01c087dd",
   "metadata": {},
   "outputs": [],
   "source": [
    "data = pd.read_csv(\"preprocessed_data.csv\")"
   ]
  },
  {
   "cell_type": "code",
   "execution_count": 41,
   "id": "1f207b73",
   "metadata": {},
   "outputs": [
    {
     "data": {
      "text/html": [
       "<div>\n",
       "<style scoped>\n",
       "    .dataframe tbody tr th:only-of-type {\n",
       "        vertical-align: middle;\n",
       "    }\n",
       "\n",
       "    .dataframe tbody tr th {\n",
       "        vertical-align: top;\n",
       "    }\n",
       "\n",
       "    .dataframe thead th {\n",
       "        text-align: right;\n",
       "    }\n",
       "</style>\n",
       "<table border=\"1\" class=\"dataframe\">\n",
       "  <thead>\n",
       "    <tr style=\"text-align: right;\">\n",
       "      <th></th>\n",
       "      <th>text</th>\n",
       "      <th>emotions</th>\n",
       "    </tr>\n",
       "  </thead>\n",
       "  <tbody>\n",
       "    <tr>\n",
       "      <th>0</th>\n",
       "      <td>probably mention feel proud actually keep new ...</td>\n",
       "      <td>joy</td>\n",
       "    </tr>\n",
       "    <tr>\n",
       "      <th>1</th>\n",
       "      <td>people feel like go grm worthwhile hour</td>\n",
       "      <td>joy</td>\n",
       "    </tr>\n",
       "    <tr>\n",
       "      <th>2</th>\n",
       "      <td>feel especially pleased long time come</td>\n",
       "      <td>joy</td>\n",
       "    </tr>\n",
       "    <tr>\n",
       "      <th>3</th>\n",
       "      <td>struggle awful feeling say sweet thing deserve...</td>\n",
       "      <td>joy</td>\n",
       "    </tr>\n",
       "    <tr>\n",
       "      <th>4</th>\n",
       "      <td>mean stupid trip make great album thing go fee...</td>\n",
       "      <td>joy</td>\n",
       "    </tr>\n",
       "  </tbody>\n",
       "</table>\n",
       "</div>"
      ],
      "text/plain": [
       "                                                text emotions\n",
       "0  probably mention feel proud actually keep new ...      joy\n",
       "1            people feel like go grm worthwhile hour      joy\n",
       "2             feel especially pleased long time come      joy\n",
       "3  struggle awful feeling say sweet thing deserve...      joy\n",
       "4  mean stupid trip make great album thing go fee...      joy"
      ]
     },
     "execution_count": 41,
     "metadata": {},
     "output_type": "execute_result"
    }
   ],
   "source": [
    "data.head()"
   ]
  },
  {
   "cell_type": "markdown",
   "id": "93e57423",
   "metadata": {},
   "source": [
    "### mapping categorical variables to numeric"
   ]
  },
  {
   "cell_type": "code",
   "execution_count": 44,
   "id": "29730484",
   "metadata": {},
   "outputs": [
    {
     "data": {
      "text/plain": [
       "array(['joy', 'sadness', 'anger', 'fear', 'love'], dtype=object)"
      ]
     },
     "execution_count": 44,
     "metadata": {},
     "output_type": "execute_result"
    }
   ],
   "source": [
    "data[\"emotions\"].unique()"
   ]
  },
  {
   "cell_type": "code",
   "execution_count": 45,
   "id": "25dcf051",
   "metadata": {},
   "outputs": [],
   "source": [
    "class_to_val = {}\n",
    "val_to_class = {}\n",
    "\n",
    "for index,emotion in enumerate(data.emotions.unique()):\n",
    "    class_to_val[emotion] = index\n",
    "    val_to_class[index] = emotion\n",
    "    "
   ]
  },
  {
   "cell_type": "code",
   "execution_count": 46,
   "id": "fb795f61",
   "metadata": {},
   "outputs": [
    {
     "data": {
      "text/plain": [
       "{'joy': 0, 'sadness': 1, 'anger': 2, 'fear': 3, 'love': 4}"
      ]
     },
     "execution_count": 46,
     "metadata": {},
     "output_type": "execute_result"
    }
   ],
   "source": [
    "class_to_val"
   ]
  },
  {
   "cell_type": "code",
   "execution_count": 47,
   "id": "65ec1520",
   "metadata": {},
   "outputs": [
    {
     "data": {
      "text/plain": [
       "{0: 'joy', 1: 'sadness', 2: 'anger', 3: 'fear', 4: 'love'}"
      ]
     },
     "execution_count": 47,
     "metadata": {},
     "output_type": "execute_result"
    }
   ],
   "source": [
    "val_to_class"
   ]
  },
  {
   "cell_type": "code",
   "execution_count": 48,
   "id": "83c6d902",
   "metadata": {},
   "outputs": [],
   "source": [
    "data[\"emotions\"] = data[\"emotions\"].apply(lambda x:class_to_val[x])"
   ]
  },
  {
   "cell_type": "code",
   "execution_count": 49,
   "id": "292c20ce",
   "metadata": {},
   "outputs": [
    {
     "data": {
      "text/plain": [
       "array([0, 1, 2, 3, 4], dtype=int64)"
      ]
     },
     "execution_count": 49,
     "metadata": {},
     "output_type": "execute_result"
    }
   ],
   "source": [
    "data.emotions.unique()"
   ]
  },
  {
   "cell_type": "markdown",
   "id": "5cdc0cb9",
   "metadata": {},
   "source": [
    "### Train_test_split"
   ]
  },
  {
   "cell_type": "code",
   "execution_count": 50,
   "id": "53223b3e",
   "metadata": {},
   "outputs": [],
   "source": [
    "x_train,x_test,y_train,y_test = train_test_split(data.text,data.emotions,test_size=0.2,random_state=42) #80-20 split"
   ]
  },
  {
   "cell_type": "code",
   "execution_count": 51,
   "id": "47f63b84",
   "metadata": {},
   "outputs": [
    {
     "data": {
      "text/plain": [
       "False"
      ]
     },
     "execution_count": 51,
     "metadata": {},
     "output_type": "execute_result"
    }
   ],
   "source": [
    "x_train.isna().any()"
   ]
  },
  {
   "cell_type": "markdown",
   "id": "5c29f91a",
   "metadata": {},
   "source": [
    "### Tf-idf_vectorizer"
   ]
  },
  {
   "cell_type": "code",
   "execution_count": 52,
   "id": "8954b702",
   "metadata": {},
   "outputs": [],
   "source": [
    "tfidf_obj = TfidfVectorizer().fit(x_train)"
   ]
  },
  {
   "cell_type": "code",
   "execution_count": 53,
   "id": "a0e0590d",
   "metadata": {},
   "outputs": [],
   "source": [
    "x_train = tfidf_obj.transform(x_train)"
   ]
  },
  {
   "cell_type": "code",
   "execution_count": 54,
   "id": "987bfa87",
   "metadata": {},
   "outputs": [],
   "source": [
    "x_test = tfidf_obj.transform(x_test)"
   ]
  },
  {
   "cell_type": "code",
   "execution_count": 56,
   "id": "bbae1f02",
   "metadata": {},
   "outputs": [
    {
     "data": {
      "text/plain": [
       "(138208, 21801)"
      ]
     },
     "execution_count": 56,
     "metadata": {},
     "output_type": "execute_result"
    }
   ],
   "source": [
    "x_train.shape"
   ]
  },
  {
   "cell_type": "code",
   "execution_count": 57,
   "id": "f070745c",
   "metadata": {},
   "outputs": [
    {
     "data": {
      "text/plain": [
       "(34553, 21801)"
      ]
     },
     "execution_count": 57,
     "metadata": {},
     "output_type": "execute_result"
    }
   ],
   "source": [
    "x_test.shape"
   ]
  },
  {
   "cell_type": "markdown",
   "id": "5e7e49a5",
   "metadata": {},
   "source": [
    "##### Using SVD to reduce the dimension"
   ]
  },
  {
   "cell_type": "code",
   "execution_count": 60,
   "id": "82dcfe12",
   "metadata": {},
   "outputs": [
    {
     "data": {
      "text/plain": [
       "TruncatedSVD(n_components=20)"
      ]
     },
     "execution_count": 60,
     "metadata": {},
     "output_type": "execute_result"
    }
   ],
   "source": [
    "svd = TruncatedSVD(n_components=20)\n",
    "svd.fit(x_train)"
   ]
  },
  {
   "cell_type": "code",
   "execution_count": 61,
   "id": "90b2044d",
   "metadata": {},
   "outputs": [],
   "source": [
    "x_train = svd.transform(x_train)\n",
    "x_test = svd.transform(x_test)\n",
    "     "
   ]
  },
  {
   "cell_type": "code",
   "execution_count": 62,
   "id": "a655b0ce",
   "metadata": {},
   "outputs": [
    {
     "data": {
      "text/plain": [
       "(138208, 20)"
      ]
     },
     "execution_count": 62,
     "metadata": {},
     "output_type": "execute_result"
    }
   ],
   "source": [
    "x_train.shape"
   ]
  },
  {
   "cell_type": "code",
   "execution_count": 63,
   "id": "c21cda93",
   "metadata": {},
   "outputs": [
    {
     "data": {
      "text/plain": [
       "(34553, 20)"
      ]
     },
     "execution_count": 63,
     "metadata": {},
     "output_type": "execute_result"
    }
   ],
   "source": [
    "x_test.shape"
   ]
  },
  {
   "cell_type": "markdown",
   "id": "24dbb102",
   "metadata": {},
   "source": [
    "## ML models"
   ]
  },
  {
   "cell_type": "code",
   "execution_count": 64,
   "id": "3b608e90",
   "metadata": {},
   "outputs": [],
   "source": [
    "\n",
    "from sklearn.linear_model import LogisticRegression as LGR"
   ]
  },
  {
   "cell_type": "code",
   "execution_count": 66,
   "id": "067dea88",
   "metadata": {},
   "outputs": [],
   "source": [
    "lr_clf = LGR(random_state=42).fit(x_train,y_train)"
   ]
  },
  {
   "cell_type": "code",
   "execution_count": 67,
   "id": "96c0272a",
   "metadata": {},
   "outputs": [],
   "source": [
    "\n",
    "pred_values_lr_train = lr_clf.predict(x_train)\n",
    "pred_values_lr_test = lr_clf.predict(x_test)\n",
    "     "
   ]
  },
  {
   "cell_type": "code",
   "execution_count": 68,
   "id": "7af18604",
   "metadata": {},
   "outputs": [
    {
     "ename": "NameError",
     "evalue": "name 'clfr' is not defined",
     "output_type": "error",
     "traceback": [
      "\u001b[1;31m---------------------------------------------------------------------------\u001b[0m",
      "\u001b[1;31mNameError\u001b[0m                                 Traceback (most recent call last)",
      "Cell \u001b[1;32mIn[68], line 1\u001b[0m\n\u001b[1;32m----> 1\u001b[0m \u001b[38;5;28mprint\u001b[39m(\u001b[38;5;124mf\u001b[39m\u001b[38;5;124m\"\u001b[39m\u001b[38;5;124m Logistic Regression performance on train data -> \u001b[39m\u001b[38;5;130;01m\\n\u001b[39;00m\u001b[38;5;132;01m{\u001b[39;00mclfr(y_train,pred_values_lr_train)\u001b[38;5;132;01m}\u001b[39;00m\u001b[38;5;124m\"\u001b[39m)\n\u001b[0;32m      3\u001b[0m \u001b[38;5;28mprint\u001b[39m(\u001b[38;5;124m\"\u001b[39m\u001b[38;5;130;01m\\n\u001b[39;00m\u001b[38;5;130;01m\\n\u001b[39;00m\u001b[38;5;124m\"\u001b[39m)\n\u001b[0;32m      5\u001b[0m \u001b[38;5;28mprint\u001b[39m(\u001b[38;5;124mf\u001b[39m\u001b[38;5;124m\"\u001b[39m\u001b[38;5;124m Logistic Regression performance on test data -> \u001b[39m\u001b[38;5;130;01m\\n\u001b[39;00m\u001b[38;5;132;01m{\u001b[39;00mclfr(y_test,pred_values_lr_test)\u001b[38;5;132;01m}\u001b[39;00m\u001b[38;5;124m\"\u001b[39m)\n",
      "\u001b[1;31mNameError\u001b[0m: name 'clfr' is not defined"
     ]
    }
   ],
   "source": [
    "print(f\" Logistic Regression performance on train data -> \\n{clfr(y_train,pred_values_lr_train)}\")\n",
    "\n",
    "print(\"\\n\\n\")\n",
    "\n",
    "print(f\" Logistic Regression performance on test data -> \\n{clfr(y_test,pred_values_lr_test)}\")"
   ]
  },
  {
   "cell_type": "code",
   "execution_count": null,
   "id": "9e689afd",
   "metadata": {},
   "outputs": [],
   "source": []
  }
 ],
 "metadata": {
  "kernelspec": {
   "display_name": "Python 3 (ipykernel)",
   "language": "python",
   "name": "python3"
  },
  "language_info": {
   "codemirror_mode": {
    "name": "ipython",
    "version": 3
   },
   "file_extension": ".py",
   "mimetype": "text/x-python",
   "name": "python",
   "nbconvert_exporter": "python",
   "pygments_lexer": "ipython3",
   "version": "3.9.0"
  }
 },
 "nbformat": 4,
 "nbformat_minor": 5
}
