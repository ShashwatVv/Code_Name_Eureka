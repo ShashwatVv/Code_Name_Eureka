{
 "cells": [
  {
   "cell_type": "code",
   "execution_count": 1,
   "id": "ae164acc",
   "metadata": {},
   "outputs": [],
   "source": [
    "import pandas as pd"
   ]
  },
  {
   "cell_type": "code",
   "execution_count": 20,
   "id": "87c5c58c",
   "metadata": {},
   "outputs": [],
   "source": [
    "from sklearn.model_selection import train_test_split"
   ]
  },
  {
   "cell_type": "code",
   "execution_count": 23,
   "id": "deccc04a",
   "metadata": {},
   "outputs": [],
   "source": [
    "from sklearn.feature_extraction.text import TfidfVectorizer"
   ]
  },
  {
   "cell_type": "code",
   "execution_count": 72,
   "id": "c16164b4",
   "metadata": {},
   "outputs": [],
   "source": [
    "from sklearn.metrics import classification_report as clfr"
   ]
  },
  {
   "cell_type": "code",
   "execution_count": 59,
   "id": "1cc171b2",
   "metadata": {},
   "outputs": [],
   "source": [
    "from sklearn.decomposition import TruncatedSVD"
   ]
  },
  {
   "cell_type": "code",
   "execution_count": 89,
   "id": "b62ca6c4",
   "metadata": {},
   "outputs": [],
   "source": [
    "import pickle"
   ]
  },
  {
   "cell_type": "markdown",
   "id": "213c0603",
   "metadata": {},
   "source": [
    "#### Load the dataset"
   ]
  },
  {
   "cell_type": "code",
   "execution_count": 40,
   "id": "420c842b",
   "metadata": {},
   "outputs": [],
   "source": [
    "data = pd.read_csv(\"preprocessed_data.csv\")"
   ]
  },
  {
   "cell_type": "code",
   "execution_count": 41,
   "id": "e7c61a98",
   "metadata": {},
   "outputs": [
    {
     "data": {
      "text/html": [
       "<div>\n",
       "<style scoped>\n",
       "    .dataframe tbody tr th:only-of-type {\n",
       "        vertical-align: middle;\n",
       "    }\n",
       "\n",
       "    .dataframe tbody tr th {\n",
       "        vertical-align: top;\n",
       "    }\n",
       "\n",
       "    .dataframe thead th {\n",
       "        text-align: right;\n",
       "    }\n",
       "</style>\n",
       "<table border=\"1\" class=\"dataframe\">\n",
       "  <thead>\n",
       "    <tr style=\"text-align: right;\">\n",
       "      <th></th>\n",
       "      <th>text</th>\n",
       "      <th>emotions</th>\n",
       "    </tr>\n",
       "  </thead>\n",
       "  <tbody>\n",
       "    <tr>\n",
       "      <th>0</th>\n",
       "      <td>probably mention feel proud actually keep new ...</td>\n",
       "      <td>joy</td>\n",
       "    </tr>\n",
       "    <tr>\n",
       "      <th>1</th>\n",
       "      <td>people feel like go grm worthwhile hour</td>\n",
       "      <td>joy</td>\n",
       "    </tr>\n",
       "    <tr>\n",
       "      <th>2</th>\n",
       "      <td>feel especially pleased long time come</td>\n",
       "      <td>joy</td>\n",
       "    </tr>\n",
       "    <tr>\n",
       "      <th>3</th>\n",
       "      <td>struggle awful feeling say sweet thing deserve...</td>\n",
       "      <td>joy</td>\n",
       "    </tr>\n",
       "    <tr>\n",
       "      <th>4</th>\n",
       "      <td>mean stupid trip make great album thing go fee...</td>\n",
       "      <td>joy</td>\n",
       "    </tr>\n",
       "  </tbody>\n",
       "</table>\n",
       "</div>"
      ],
      "text/plain": [
       "                                                text emotions\n",
       "0  probably mention feel proud actually keep new ...      joy\n",
       "1            people feel like go grm worthwhile hour      joy\n",
       "2             feel especially pleased long time come      joy\n",
       "3  struggle awful feeling say sweet thing deserve...      joy\n",
       "4  mean stupid trip make great album thing go fee...      joy"
      ]
     },
     "execution_count": 41,
     "metadata": {},
     "output_type": "execute_result"
    }
   ],
   "source": [
    "data.head()"
   ]
  },
  {
   "cell_type": "markdown",
   "id": "4d3bb729",
   "metadata": {},
   "source": [
    "### mapping categorical variables to numeric"
   ]
  },
  {
   "cell_type": "code",
   "execution_count": 44,
   "id": "8a8ea2ff",
   "metadata": {},
   "outputs": [
    {
     "data": {
      "text/plain": [
       "array(['joy', 'sadness', 'anger', 'fear', 'love'], dtype=object)"
      ]
     },
     "execution_count": 44,
     "metadata": {},
     "output_type": "execute_result"
    }
   ],
   "source": [
    "data[\"emotions\"].unique()"
   ]
  },
  {
   "cell_type": "code",
   "execution_count": 45,
   "id": "670fcf6b",
   "metadata": {},
   "outputs": [],
   "source": [
    "class_to_val = {}\n",
    "val_to_class = {}\n",
    "\n",
    "for index,emotion in enumerate(data.emotions.unique()):\n",
    "    class_to_val[emotion] = index\n",
    "    val_to_class[index] = emotion\n",
    "    "
   ]
  },
  {
   "cell_type": "code",
   "execution_count": 46,
   "id": "cf7795b5",
   "metadata": {},
   "outputs": [
    {
     "data": {
      "text/plain": [
       "{'joy': 0, 'sadness': 1, 'anger': 2, 'fear': 3, 'love': 4}"
      ]
     },
     "execution_count": 46,
     "metadata": {},
     "output_type": "execute_result"
    }
   ],
   "source": [
    "class_to_val"
   ]
  },
  {
   "cell_type": "code",
   "execution_count": 47,
   "id": "57f3b0b8",
   "metadata": {},
   "outputs": [
    {
     "data": {
      "text/plain": [
       "{0: 'joy', 1: 'sadness', 2: 'anger', 3: 'fear', 4: 'love'}"
      ]
     },
     "execution_count": 47,
     "metadata": {},
     "output_type": "execute_result"
    }
   ],
   "source": [
    "val_to_class"
   ]
  },
  {
   "cell_type": "code",
   "execution_count": 48,
   "id": "985668a1",
   "metadata": {},
   "outputs": [],
   "source": [
    "data[\"emotions\"] = data[\"emotions\"].apply(lambda x:class_to_val[x])"
   ]
  },
  {
   "cell_type": "code",
   "execution_count": 49,
   "id": "7587e8f1",
   "metadata": {},
   "outputs": [
    {
     "data": {
      "text/plain": [
       "array([0, 1, 2, 3, 4], dtype=int64)"
      ]
     },
     "execution_count": 49,
     "metadata": {},
     "output_type": "execute_result"
    }
   ],
   "source": [
    "data.emotions.unique()"
   ]
  },
  {
   "cell_type": "markdown",
   "id": "cd4c593d",
   "metadata": {},
   "source": [
    "### Train_test_split"
   ]
  },
  {
   "cell_type": "code",
   "execution_count": 50,
   "id": "106f89f2",
   "metadata": {},
   "outputs": [],
   "source": [
    "x_train,x_test,y_train,y_test = train_test_split(data.text,data.emotions,test_size=0.2,random_state=42) #80-20 split"
   ]
  },
  {
   "cell_type": "code",
   "execution_count": 51,
   "id": "d936ffa9",
   "metadata": {},
   "outputs": [
    {
     "data": {
      "text/plain": [
       "False"
      ]
     },
     "execution_count": 51,
     "metadata": {},
     "output_type": "execute_result"
    }
   ],
   "source": [
    "x_train.isna().any()"
   ]
  },
  {
   "cell_type": "markdown",
   "id": "1e4b2497",
   "metadata": {},
   "source": [
    "### Tf-idf_vectorizer"
   ]
  },
  {
   "cell_type": "code",
   "execution_count": 52,
   "id": "507d3c12",
   "metadata": {},
   "outputs": [],
   "source": [
    "tfidf_obj = TfidfVectorizer().fit(x_train)"
   ]
  },
  {
   "cell_type": "code",
   "execution_count": 53,
   "id": "01dccdaf",
   "metadata": {},
   "outputs": [],
   "source": [
    "x_train = tfidf_obj.transform(x_train)"
   ]
  },
  {
   "cell_type": "code",
   "execution_count": 54,
   "id": "3139867d",
   "metadata": {},
   "outputs": [],
   "source": [
    "x_test = tfidf_obj.transform(x_test)"
   ]
  },
  {
   "cell_type": "code",
   "execution_count": 56,
   "id": "89abbafc",
   "metadata": {},
   "outputs": [
    {
     "data": {
      "text/plain": [
       "(138208, 21801)"
      ]
     },
     "execution_count": 56,
     "metadata": {},
     "output_type": "execute_result"
    }
   ],
   "source": [
    "x_train.shape"
   ]
  },
  {
   "cell_type": "code",
   "execution_count": 57,
   "id": "4ea2cab6",
   "metadata": {},
   "outputs": [
    {
     "data": {
      "text/plain": [
       "(34553, 21801)"
      ]
     },
     "execution_count": 57,
     "metadata": {},
     "output_type": "execute_result"
    }
   ],
   "source": [
    "x_test.shape"
   ]
  },
  {
   "cell_type": "markdown",
   "id": "f2ba5640",
   "metadata": {},
   "source": [
    "##### Using SVD to reduce the dimension"
   ]
  },
  {
   "cell_type": "code",
   "execution_count": 60,
   "id": "5b35ca4e",
   "metadata": {},
   "outputs": [
    {
     "data": {
      "text/plain": [
       "TruncatedSVD(n_components=20)"
      ]
     },
     "execution_count": 60,
     "metadata": {},
     "output_type": "execute_result"
    }
   ],
   "source": [
    "svd = TruncatedSVD(n_components=20)\n",
    "svd.fit(x_train)"
   ]
  },
  {
   "cell_type": "code",
   "execution_count": 61,
   "id": "bf45b28d",
   "metadata": {},
   "outputs": [],
   "source": [
    "x_train = svd.transform(x_train)\n",
    "x_test = svd.transform(x_test)\n",
    "     "
   ]
  },
  {
   "cell_type": "code",
   "execution_count": 62,
   "id": "15239966",
   "metadata": {},
   "outputs": [
    {
     "data": {
      "text/plain": [
       "(138208, 20)"
      ]
     },
     "execution_count": 62,
     "metadata": {},
     "output_type": "execute_result"
    }
   ],
   "source": [
    "x_train.shape"
   ]
  },
  {
   "cell_type": "code",
   "execution_count": 63,
   "id": "8871134c",
   "metadata": {},
   "outputs": [
    {
     "data": {
      "text/plain": [
       "(34553, 20)"
      ]
     },
     "execution_count": 63,
     "metadata": {},
     "output_type": "execute_result"
    }
   ],
   "source": [
    "x_test.shape"
   ]
  },
  {
   "cell_type": "markdown",
   "id": "6053ddf1",
   "metadata": {},
   "source": [
    "## ML models"
   ]
  },
  {
   "cell_type": "code",
   "execution_count": 64,
   "id": "08b8a02f",
   "metadata": {},
   "outputs": [],
   "source": [
    "\n",
    "from sklearn.linear_model import LogisticRegression as LGR"
   ]
  },
  {
   "cell_type": "code",
   "execution_count": 69,
   "id": "1bce61c4",
   "metadata": {},
   "outputs": [],
   "source": [
    "lr_clf = LGR(random_state=42).fit(x_train,y_train)"
   ]
  },
  {
   "cell_type": "code",
   "execution_count": 70,
   "id": "cebca94f",
   "metadata": {},
   "outputs": [],
   "source": [
    "\n",
    "pred_values_lr_train = lr_clf.predict(x_train)\n",
    "pred_values_lr_test = lr_clf.predict(x_test)\n",
    "     "
   ]
  },
  {
   "cell_type": "code",
   "execution_count": 73,
   "id": "b6f686d3",
   "metadata": {},
   "outputs": [
    {
     "name": "stdout",
     "output_type": "stream",
     "text": [
      " Logistic Regression performance on train data -> \n",
      "              precision    recall  f1-score   support\n",
      "\n",
      "           0       0.27      0.50      0.35     27716\n",
      "           1       0.26      0.07      0.11     27603\n",
      "           2       0.32      0.19      0.23     27746\n",
      "           3       0.32      0.44      0.37     27533\n",
      "           4       0.36      0.33      0.34     27610\n",
      "\n",
      "    accuracy                           0.31    138208\n",
      "   macro avg       0.31      0.31      0.28    138208\n",
      "weighted avg       0.31      0.31      0.28    138208\n",
      "\n",
      "\n",
      "\n",
      "\n",
      " Logistic Regression performance on test data -> \n",
      "              precision    recall  f1-score   support\n",
      "\n",
      "           0       0.27      0.49      0.34      6838\n",
      "           1       0.25      0.07      0.11      6951\n",
      "           2       0.32      0.20      0.25      6803\n",
      "           3       0.34      0.45      0.38      7017\n",
      "           4       0.35      0.33      0.34      6944\n",
      "\n",
      "    accuracy                           0.31     34553\n",
      "   macro avg       0.31      0.31      0.28     34553\n",
      "weighted avg       0.31      0.31      0.29     34553\n",
      "\n"
     ]
    }
   ],
   "source": [
    "print(f\" Logistic Regression performance on train data -> \\n{clfr(y_train,pred_values_lr_train)}\")\n",
    "\n",
    "print(\"\\n\\n\")\n",
    "\n",
    "print(f\" Logistic Regression performance on test data -> \\n{clfr(y_test,pred_values_lr_test)}\")"
   ]
  },
  {
   "cell_type": "markdown",
   "id": "92321f28",
   "metadata": {},
   "source": [
    "## K-Nearest Neighbors"
   ]
  },
  {
   "cell_type": "code",
   "execution_count": 75,
   "id": "8f7867bb",
   "metadata": {},
   "outputs": [],
   "source": [
    "from sklearn.neighbors import KNeighborsClassifier"
   ]
  },
  {
   "cell_type": "code",
   "execution_count": 77,
   "id": "47662abe",
   "metadata": {},
   "outputs": [
    {
     "data": {
      "text/plain": [
       "KNeighborsClassifier(n_neighbors=3)"
      ]
     },
     "execution_count": 77,
     "metadata": {},
     "output_type": "execute_result"
    }
   ],
   "source": [
    "\n",
    "knn_clf = KNeighborsClassifier(n_neighbors=3)\n",
    "knn_clf.fit(x_train,y_train)"
   ]
  },
  {
   "cell_type": "code",
   "execution_count": 78,
   "id": "0a97225d",
   "metadata": {},
   "outputs": [
    {
     "name": "stderr",
     "output_type": "stream",
     "text": [
      "C:\\Users\\Asus\\anaconda3\\envs\\Eureka\\lib\\site-packages\\sklearn\\neighbors\\_classification.py:228: FutureWarning: Unlike other reduction functions (e.g. `skew`, `kurtosis`), the default behavior of `mode` typically preserves the axis it acts along. In SciPy 1.11.0, this behavior will change: the default value of `keepdims` will become False, the `axis` over which the statistic is taken will be eliminated, and the value None will no longer be accepted. Set `keepdims` to True or False to avoid this warning.\n",
      "  mode, _ = stats.mode(_y[neigh_ind, k], axis=1)\n",
      "C:\\Users\\Asus\\anaconda3\\envs\\Eureka\\lib\\site-packages\\sklearn\\neighbors\\_classification.py:228: FutureWarning: Unlike other reduction functions (e.g. `skew`, `kurtosis`), the default behavior of `mode` typically preserves the axis it acts along. In SciPy 1.11.0, this behavior will change: the default value of `keepdims` will become False, the `axis` over which the statistic is taken will be eliminated, and the value None will no longer be accepted. Set `keepdims` to True or False to avoid this warning.\n",
      "  mode, _ = stats.mode(_y[neigh_ind, k], axis=1)\n"
     ]
    }
   ],
   "source": [
    "\n",
    "pred_values_knn_train = knn_clf.predict(x_train)\n",
    "pred_values_knn_test = knn_clf.predict(x_test)"
   ]
  },
  {
   "cell_type": "code",
   "execution_count": 79,
   "id": "848f45c7",
   "metadata": {},
   "outputs": [
    {
     "name": "stdout",
     "output_type": "stream",
     "text": [
      " KNN performance on train data -> \n",
      "              precision    recall  f1-score   support\n",
      "\n",
      "           0       0.50      0.84      0.62     27716\n",
      "           1       0.59      0.65      0.62     27603\n",
      "           2       0.76      0.57      0.65     27746\n",
      "           3       0.84      0.58      0.69     27533\n",
      "           4       0.83      0.62      0.71     27610\n",
      "\n",
      "    accuracy                           0.65    138208\n",
      "   macro avg       0.70      0.65      0.66    138208\n",
      "weighted avg       0.70      0.65      0.66    138208\n",
      "\n",
      "\n",
      "\n",
      "\n",
      " KNN Regression performance on test data -> \n",
      "              precision    recall  f1-score   support\n",
      "\n",
      "           0       0.31      0.58      0.41      6838\n",
      "           1       0.34      0.39      0.37      6951\n",
      "           2       0.47      0.34      0.40      6803\n",
      "           3       0.60      0.38      0.47      7017\n",
      "           4       0.60      0.42      0.49      6944\n",
      "\n",
      "    accuracy                           0.42     34553\n",
      "   macro avg       0.47      0.42      0.43     34553\n",
      "weighted avg       0.47      0.42      0.43     34553\n",
      "\n"
     ]
    }
   ],
   "source": [
    "\n",
    "print(f\" KNN performance on train data -> \\n{clfr(y_train,pred_values_knn_train)}\")\n",
    "print(\"\\n\\n\")\n",
    "print(f\" KNN Regression performance on test data -> \\n{clfr(y_test,pred_values_knn_test)}\")"
   ]
  },
  {
   "cell_type": "markdown",
   "id": "d79a5915",
   "metadata": {},
   "source": [
    "### Decision Tree"
   ]
  },
  {
   "cell_type": "code",
   "execution_count": 80,
   "id": "3fe39cf2",
   "metadata": {},
   "outputs": [],
   "source": [
    "from sklearn.tree import DecisionTreeClassifier"
   ]
  },
  {
   "cell_type": "code",
   "execution_count": 81,
   "id": "948c08cb",
   "metadata": {},
   "outputs": [
    {
     "data": {
      "text/plain": [
       "DecisionTreeClassifier(random_state=42)"
      ]
     },
     "execution_count": 81,
     "metadata": {},
     "output_type": "execute_result"
    }
   ],
   "source": [
    "\n",
    "dec_clf = DecisionTreeClassifier(random_state=42)\n",
    "dec_clf.fit(x_train,y_train)\n",
    "     "
   ]
  },
  {
   "cell_type": "code",
   "execution_count": 82,
   "id": "0115951a",
   "metadata": {},
   "outputs": [],
   "source": [
    "\n",
    "pred_values_dec_train = dec_clf.predict(x_train)\n",
    "pred_values_dec_test = dec_clf.predict(x_test)"
   ]
  },
  {
   "cell_type": "code",
   "execution_count": 83,
   "id": "b8b6935e",
   "metadata": {},
   "outputs": [
    {
     "name": "stdout",
     "output_type": "stream",
     "text": [
      " Decision tree performance on train data -> \n",
      "              precision    recall  f1-score   support\n",
      "\n",
      "           0       0.95      1.00      0.97     27716\n",
      "           1       0.98      1.00      0.99     27603\n",
      "           2       0.98      0.99      0.98     27746\n",
      "           3       1.00      0.97      0.98     27533\n",
      "           4       1.00      0.94      0.97     27610\n",
      "\n",
      "    accuracy                           0.98    138208\n",
      "   macro avg       0.98      0.98      0.98    138208\n",
      "weighted avg       0.98      0.98      0.98    138208\n",
      "\n",
      "\n",
      "\n",
      "\n",
      " Decision performance on test data -> \n",
      "              precision    recall  f1-score   support\n",
      "\n",
      "           0       0.32      0.34      0.33      6838\n",
      "           1       0.32      0.33      0.33      6951\n",
      "           2       0.36      0.36      0.36      6803\n",
      "           3       0.44      0.41      0.42      7017\n",
      "           4       0.43      0.42      0.42      6944\n",
      "\n",
      "    accuracy                           0.37     34553\n",
      "   macro avg       0.37      0.37      0.37     34553\n",
      "weighted avg       0.37      0.37      0.37     34553\n",
      "\n"
     ]
    }
   ],
   "source": [
    "print(f\" Decision tree performance on train data -> \\n{clfr(y_train,pred_values_dec_train)}\")\n",
    "print(\"\\n\\n\")\n",
    "print(f\" Decision performance on test data -> \\n{clfr(y_test,pred_values_dec_test)}\")"
   ]
  },
  {
   "cell_type": "markdown",
   "id": "a818227f",
   "metadata": {},
   "source": [
    "### SVM"
   ]
  },
  {
   "cell_type": "code",
   "execution_count": 85,
   "id": "082873c3",
   "metadata": {},
   "outputs": [],
   "source": [
    "from sklearn.svm import SVC"
   ]
  },
  {
   "cell_type": "code",
   "execution_count": 86,
   "id": "ea53e8d0",
   "metadata": {},
   "outputs": [
    {
     "data": {
      "text/plain": [
       "SVC(C=0.8)"
      ]
     },
     "execution_count": 86,
     "metadata": {},
     "output_type": "execute_result"
    }
   ],
   "source": [
    "\n",
    "svm_clf = SVC(C=0.8)\n",
    "svm_clf.fit(x_train, y_train)"
   ]
  },
  {
   "cell_type": "code",
   "execution_count": 87,
   "id": "85170796",
   "metadata": {},
   "outputs": [],
   "source": [
    "\n",
    "pred_values_svm_train = svm_clf.predict(x_train)\n",
    "pred_values_svm_test = svm_clf.predict(x_test)"
   ]
  },
  {
   "cell_type": "code",
   "execution_count": 88,
   "id": "ff9757ce",
   "metadata": {},
   "outputs": [
    {
     "name": "stdout",
     "output_type": "stream",
     "text": [
      "SVM performance on train data -> \n",
      "              precision    recall  f1-score   support\n",
      "\n",
      "           0       0.34      0.50      0.41     27716\n",
      "           1       0.34      0.28      0.31     27603\n",
      "           2       0.43      0.33      0.37     27746\n",
      "           3       0.50      0.50      0.50     27533\n",
      "           4       0.51      0.48      0.49     27610\n",
      "\n",
      "    accuracy                           0.42    138208\n",
      "   macro avg       0.42      0.42      0.42    138208\n",
      "weighted avg       0.42      0.42      0.42    138208\n",
      "\n",
      "\n",
      "\n",
      "\n",
      "SVM performance on test data -> \n",
      "              precision    recall  f1-score   support\n",
      "\n",
      "           0       0.33      0.48      0.39      6838\n",
      "           1       0.31      0.26      0.29      6951\n",
      "           2       0.40      0.30      0.35      6803\n",
      "           3       0.48      0.48      0.48      7017\n",
      "           4       0.49      0.47      0.48      6944\n",
      "\n",
      "    accuracy                           0.40     34553\n",
      "   macro avg       0.40      0.40      0.40     34553\n",
      "weighted avg       0.40      0.40      0.40     34553\n",
      "\n"
     ]
    }
   ],
   "source": [
    "print(f\"SVM performance on train data -> \\n{clfr(y_train,pred_values_svm_train)}\")\n",
    "print(\"\\n\\n\")\n",
    "print(f\"SVM performance on test data -> \\n{clfr(y_test,pred_values_svm_test)}\")\n",
    "     "
   ]
  },
  {
   "cell_type": "markdown",
   "id": "1dcd8b88",
   "metadata": {},
   "source": [
    "## Dump models"
   ]
  },
  {
   "cell_type": "code",
   "execution_count": 94,
   "id": "c85eab21",
   "metadata": {},
   "outputs": [],
   "source": [
    "def pickle_dump(file_name,obj):\n",
    "    \n",
    "    with open(file_name,\"wb\") as f:\n",
    "        pickle.dump(obj,f)"
   ]
  },
  {
   "cell_type": "code",
   "execution_count": 98,
   "id": "f3d9969e",
   "metadata": {},
   "outputs": [],
   "source": [
    "pickle_dump(\"svm.pkl\",svm_clf)"
   ]
  },
  {
   "cell_type": "code",
   "execution_count": 99,
   "id": "f616b13e",
   "metadata": {},
   "outputs": [],
   "source": [
    "pickle_dump(\"dec_tree.pkl\",dec_clf)"
   ]
  },
  {
   "cell_type": "code",
   "execution_count": 101,
   "id": "679dfcc8",
   "metadata": {},
   "outputs": [],
   "source": [
    "pickle_dump(\"knn.pkl\",knn_clf)"
   ]
  },
  {
   "cell_type": "code",
   "execution_count": 102,
   "id": "283cc10d",
   "metadata": {},
   "outputs": [],
   "source": [
    "pickle_dump(\"logistic_reg.pkl\",lr_clf)"
   ]
  },
  {
   "cell_type": "code",
   "execution_count": null,
   "id": "2334cf56",
   "metadata": {},
   "outputs": [],
   "source": []
  }
 ],
 "metadata": {
  "kernelspec": {
   "display_name": "Python 3 (ipykernel)",
   "language": "python",
   "name": "python3"
  },
  "language_info": {
   "codemirror_mode": {
    "name": "ipython",
    "version": 3
   },
   "file_extension": ".py",
   "mimetype": "text/x-python",
   "name": "python",
   "nbconvert_exporter": "python",
   "pygments_lexer": "ipython3",
   "version": "3.9.0"
  }
 },
 "nbformat": 4,
 "nbformat_minor": 5
}
